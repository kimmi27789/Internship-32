{
 "cells": [
  {
   "cell_type": "markdown",
   "id": "3d6b6926",
   "metadata": {},
   "source": [
    "# To calculate the factorial of a Number"
   ]
  },
  {
   "cell_type": "code",
   "execution_count": 1,
   "id": "971c0dad",
   "metadata": {},
   "outputs": [
    {
     "name": "stdout",
     "output_type": "stream",
     "text": [
      "Enter any Integer 5\n",
      "The factorial of 5 is = 120\n"
     ]
    }
   ],
   "source": [
    "num = int(input(\"Enter any Integer \"))\n",
    "count = num\n",
    "fact = 1\n",
    "while(count >= 1):\n",
    "    fact = fact * count\n",
    "    count = count - 1\n",
    "print (\"The factorial of\", num,\"is =\",fact)"
   ]
  },
  {
   "cell_type": "markdown",
   "id": "86f2ccb3",
   "metadata": {},
   "source": [
    "# To find whether a Number is prime or composite."
   ]
  },
  {
   "cell_type": "code",
   "execution_count": 9,
   "id": "8c6381f9",
   "metadata": {},
   "outputs": [],
   "source": [
    "# If the number has only two factors, 1 and itself, then it is prime. \n",
    "# If the number has more than two factors, then it is composite."
   ]
  },
  {
   "cell_type": "code",
   "execution_count": 2,
   "id": "247232d1",
   "metadata": {},
   "outputs": [
    {
     "name": "stdout",
     "output_type": "stream",
     "text": [
      "Enter any Integer Number7\n",
      "7 is a Prime Number\n"
     ]
    }
   ],
   "source": [
    "num = int(input(\"Enter any Integer Number\"))\n",
    "if(num > 1):\n",
    "    for x in range(2,num):\n",
    "        if(num % x == 0 ):\n",
    "            print(num,\"is a Composite Number\")\n",
    "            break\n",
    "    else:\n",
    "        print(num,\"is a Prime Number\")\n",
    "else:\n",
    "    print(num,\"is a Composite Number\") # if input number is less than or equal to 1\n",
    "        "
   ]
  },
  {
   "cell_type": "markdown",
   "id": "9abd89ef",
   "metadata": {},
   "source": [
    "# To check whether a given string is palindrome or not."
   ]
  },
  {
   "cell_type": "code",
   "execution_count": null,
   "id": "ebc6ec08",
   "metadata": {},
   "outputs": [],
   "source": [
    "# A string is called a palindrome string \n",
    "# if the reverse of that string is the same as the original string"
   ]
  },
  {
   "cell_type": "code",
   "execution_count": 4,
   "id": "f3bd46e5",
   "metadata": {},
   "outputs": [
    {
     "name": "stdout",
     "output_type": "stream",
     "text": [
      "Enter a Stringbogo\n",
      "bogo is not a Palindrome\n"
     ]
    }
   ],
   "source": [
    "str = input(\"Enter a String\")\n",
    "if(str == str[::-1]):\n",
    "    print(str,\"is a Palindrome\")\n",
    "else:\n",
    "    print(str,\"is not a Palindrome\")"
   ]
  },
  {
   "cell_type": "markdown",
   "id": "39b6e89c",
   "metadata": {},
   "source": [
    "# To get the third side of right-angled triangle from two given sides."
   ]
  },
  {
   "cell_type": "code",
   "execution_count": null,
   "id": "d2e32620",
   "metadata": {},
   "outputs": [],
   "source": [
    "# Suppose there are three sides of a right angle Triangle (ie) opposite_side,adjacent_side,hypotenuse\n",
    "# (hypotenuse**2) = (adjacent_side**2) + (opposite_side**2)"
   ]
  },
  {
   "cell_type": "code",
   "execution_count": null,
   "id": "9be1ce71",
   "metadata": {},
   "outputs": [],
   "source": [
    "#lets define a function \"func\" to calculate the third side, given the other two sides"
   ]
  },
  {
   "cell_type": "code",
   "execution_count": 20,
   "id": "1fd66b2f",
   "metadata": {},
   "outputs": [
    {
     "name": "stdout",
     "output_type": "stream",
     "text": [
      "Choose which side you want to calculate for a Right Angle Triangle\n",
      "Enter 1 for Hypotenuse\n",
      "Enter 2 for Adjecent Side\n",
      "Enter 3 for Opposide Side1\n",
      "Enter Adjecent Side\n",
      "12\n",
      "Enter Opposite Side\n",
      "12\n",
      "Hypotenuse is 16.97056274847714\n"
     ]
    }
   ],
   "source": [
    "import math\n",
    "\n",
    "# define function\n",
    "def pythagoras(hypotenuse,a_side,o_side):\n",
    "    if(hypotenuse == 'x'):\n",
    "        hypotenuse = math.sqrt((a_side **2) + (o_side**2))\n",
    "        print(\"Hypotenuse is\",hypotenuse)\n",
    "    elif(a_side == 'x'):\n",
    "        a_side = math.sqrt((hypotenuse ** 2) - (o_side **2))\n",
    "        print(\"Adjecent side is\",a_side)\n",
    "    elif(o_side == 'x'):\n",
    "        o_side = math.sqrt((hypotenuse ** 2) - (a_side**2))\n",
    "        print(\"Opposide side is\",o_side)\n",
    "\n",
    "#user input\n",
    "num = int(input(\"Choose which side you want to calculate for a Right Angle Triangle\\nEnter 1 for Hypotenuse\\nEnter 2 for Adjecent Side\\nEnter 3 for Opposide Side\"))\n",
    "\n",
    "if(num == 1):\n",
    "    a_side = int(input(\"Enter Adjecent Side\\n\"))\n",
    "    o_side = int(input(\"Enter Opposite Side\\n\"))\n",
    "    pythagoras('x',a_side, o_side)\n",
    "elif(num == 2):\n",
    "    hypotenuse = int(input(\"Enter Hypotenuse\\n\"))\n",
    "    o_side = int(input(\"Enter Opposite Side\\n\"))\n",
    "    pythagoras(hypotenuse,'x',o_side)\n",
    "elif(num == 3):\n",
    "    a_side = int(input(\"Enter Adjecent Side\\n\"))\n",
    "    hypotenuse = int(input(\"Enter Hypotenuse\\n\"))\n",
    "    pythagoras(hypotenuse,a_side,'x')\n",
    "else:\n",
    "    print(\"You entered a wrong input.. please try again\\n\")\n",
    "    "
   ]
  },
  {
   "cell_type": "markdown",
   "id": "3b92bba6",
   "metadata": {},
   "source": [
    "# To print the frequency of each of the characters present in a given string"
   ]
  },
  {
   "cell_type": "code",
   "execution_count": 19,
   "id": "a59e23ec",
   "metadata": {},
   "outputs": [
    {
     "name": "stdout",
     "output_type": "stream",
     "text": [
      "Enter any String\n",
      "hello world\n",
      "h   1\n",
      "e   1\n",
      "l   3\n",
      "o   2\n",
      "w   1\n",
      "r   1\n",
      "d   1\n"
     ]
    }
   ],
   "source": [
    "str = input(\"Enter any String\\n\")\n",
    "str_len = len(str)\n",
    "freq = []\n",
    "for i in range(0,str_len):\n",
    "    freq.append(1)\n",
    "    temp = str[i]\n",
    "    for j in range(i+1, str_len):\n",
    "        if(temp == str[j]):\n",
    "            freq[i] = freq[i] + 1\n",
    "            str = str[ : j] + '0' + str[j+1 : ]\n",
    "    if(str[i] != ' ' and str[i] != '0'):  \n",
    "        print(str[i],\" \",freq[i])\n",
    "            "
   ]
  }
 ],
 "metadata": {
  "kernelspec": {
   "display_name": "Python 3 (ipykernel)",
   "language": "python",
   "name": "python3"
  },
  "language_info": {
   "codemirror_mode": {
    "name": "ipython",
    "version": 3
   },
   "file_extension": ".py",
   "mimetype": "text/x-python",
   "name": "python",
   "nbconvert_exporter": "python",
   "pygments_lexer": "ipython3",
   "version": "3.9.7"
  }
 },
 "nbformat": 4,
 "nbformat_minor": 5
}
